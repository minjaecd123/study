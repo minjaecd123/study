{
  "nbformat": 4,
  "nbformat_minor": 0,
  "metadata": {
    "colab": {
      "provenance": [],
      "mount_file_id": "1vHvGnT29gY3X0fEiiNRiv8qzd1aSnqE-",
      "authorship_tag": "ABX9TyMno1u/SmQnLKq9ZglZRdk1",
      "include_colab_link": true
    },
    "kernelspec": {
      "name": "python3",
      "display_name": "Python 3"
    },
    "language_info": {
      "name": "python"
    }
  },
  "cells": [
    {
      "cell_type": "markdown",
      "metadata": {
        "id": "view-in-github",
        "colab_type": "text"
      },
      "source": [
        "<a href=\"https://colab.research.google.com/github/minjaecd123/study/blob/master/20250331_1_ipynb%EC%9D%98_%EC%82%AC%EB%B3%B8.ipynb\" target=\"_parent\"><img src=\"https://colab.research.google.com/assets/colab-badge.svg\" alt=\"Open In Colab\"/></a>"
      ]
    },
    {
      "cell_type": "markdown",
      "source": [
        "# 128mb 데이터"
      ],
      "metadata": {
        "id": "8xFTjLl_a-vI"
      }
    },
    {
      "cell_type": "code",
      "source": [
        "import pandas as pd\n",
        "\n",
        "df = pd.read_csv('/content/drive/MyDrive/syon/Data/merge_trends_weather_long_dl.csv')\n",
        "\n",
        "df.info()"
      ],
      "metadata": {
        "colab": {
          "base_uri": "https://localhost:8080/"
        },
        "id": "HdaUw3jXa_NA",
        "outputId": "81ef9a41-d522-493b-ab18-eec11c4cd480"
      },
      "execution_count": null,
      "outputs": [
        {
          "output_type": "stream",
          "name": "stdout",
          "text": [
            "<class 'pandas.core.frame.DataFrame'>\n",
            "RangeIndex: 473364 entries, 0 to 473363\n",
            "Data columns (total 60 columns):\n",
            " #   Column         Non-Null Count   Dtype  \n",
            "---  ------         --------------   -----  \n",
            " 0   Date           473364 non-null  object \n",
            " 1   GroupName      473364 non-null  object \n",
            " 2   Gender         473364 non-null  object \n",
            " 3   Age_Group      473364 non-null  object \n",
            " 4   Search_Count   473364 non-null  float64\n",
            " 5   STN            473364 non-null  int64  \n",
            " 6   WS_AVG         472716 non-null  float64\n",
            " 7   WR_DAY         472572 non-null  float64\n",
            " 8   WD_MAX         473004 non-null  float64\n",
            " 9   WS_MAX         473004 non-null  float64\n",
            " 10  WS_MAX_TM      473004 non-null  float64\n",
            " 11  WD_INS         472932 non-null  float64\n",
            " 12  WS_INS         472932 non-null  float64\n",
            " 13  WS_INS_TM      472932 non-null  float64\n",
            " 14  TA_AVG         473328 non-null  float64\n",
            " 15  TA_MAX         473364 non-null  float64\n",
            " 16  TA_MAX_TM      473328 non-null  float64\n",
            " 17  TA_MIN         473004 non-null  float64\n",
            " 18  TA_MIN_TM      473292 non-null  float64\n",
            " 19  TD_AVG         472932 non-null  float64\n",
            " 20  TS_AVG         473364 non-null  float64\n",
            " 21  TG_MIN         470412 non-null  float64\n",
            " 22  HM_AVG         472860 non-null  float64\n",
            " 23  HM_MIN         473292 non-null  float64\n",
            " 24  HM_MIN_TM      473292 non-null  float64\n",
            " 25  PV_AVG         472824 non-null  float64\n",
            " 26  EV_S           471420 non-null  float64\n",
            " 27  EV_L           471420 non-null  float64\n",
            " 28  FG_DUR         10188 non-null   float64\n",
            " 29  PA_AVG         472968 non-null  float64\n",
            " 30  PS_AVG         472968 non-null  float64\n",
            " 31  PS_MAX         473148 non-null  float64\n",
            " 32  PS_MAX_TM      473148 non-null  float64\n",
            " 33  PS_MIN         473112 non-null  float64\n",
            " 34  PS_MIN_TM      473112 non-null  float64\n",
            " 35  CA_TOT         473220 non-null  float64\n",
            " 36  SS_DAY         471600 non-null  float64\n",
            " 37  SS_DUR         473220 non-null  float64\n",
            " 38  SS_CMB         0 non-null       float64\n",
            " 39  SI_DAY         471420 non-null  float64\n",
            " 40  SI_60M_MAX     471564 non-null  float64\n",
            " 41  SI_60M_MAX_TM  471564 non-null  float64\n",
            " 42  RN_DAY         191736 non-null  float64\n",
            " 43  RN_D99         132192 non-null  float64\n",
            " 44  RN_DUR         174384 non-null  float64\n",
            " 45  RN_60M_MAX     121860 non-null  float64\n",
            " 46  RN_60M_MAX_TM  85176 non-null   float64\n",
            " 47  RN_10M_MAX     121860 non-null  float64\n",
            " 48  RN_10M_MAX_TM  82476 non-null   float64\n",
            " 49  RN_POW_MAX     36 non-null      float64\n",
            " 50  RN_POW_MAX_TM  0 non-null       float64\n",
            " 51  SD_NEW         11052 non-null   float64\n",
            " 52  SD_NEW_TM      10620 non-null   float64\n",
            " 53  SD_MAX         17064 non-null   float64\n",
            " 54  SD_MAX_TM      16956 non-null   float64\n",
            " 55  TE_05          473364 non-null  float64\n",
            " 56  TE_10          473364 non-null  float64\n",
            " 57  TE_15          473364 non-null  float64\n",
            " 58  TE_30          473364 non-null  float64\n",
            " 59  TE_50          473364 non-null  float64\n",
            "dtypes: float64(55), int64(1), object(4)\n",
            "memory usage: 216.7+ MB\n"
          ]
        }
      ]
    },
    {
      "cell_type": "code",
      "source": [
        "# ✅ XGBoost 음식 추천 모델 전체 코드 (개선된 열 기준)\n",
        "import pandas as pd\n",
        "import numpy as np\n",
        "from sklearn.model_selection import train_test_split, RandomizedSearchCV\n",
        "from sklearn.preprocessing import LabelEncoder, StandardScaler, PowerTransformer\n",
        "from sklearn.metrics import classification_report\n",
        "from sklearn.cluster import KMeans\n",
        "import xgboost as xgb\n",
        "import matplotlib.pyplot as plt\n",
        "import warnings\n",
        "warnings.filterwarnings(\"ignore\")\n",
        "\n",
        "# === 1. 데이터 로딩 및 정리 ===\n",
        "df = pd.read_csv('/content/drive/MyDrive/syon/Data/merge_trends_weather_long_dl.csv')\n",
        "df.columns = df.columns.str.strip()\n",
        "\n",
        "# === 2. 날짜 → 월 ===\n",
        "df['Month'] = pd.to_datetime(df['Date']).dt.month\n",
        "\n",
        "# === 3. 날씨 피처 매핑 ===\n",
        "weather_columns = {\n",
        "    'Temperature': 'TA_AVG',\n",
        "    'Humidity': 'HM_AVG',\n",
        "    'Precipitation': 'RN_DAY',\n",
        "    'Snowfall': 'SD_MAX',\n",
        "    'WindSpeed': 'WS_AVG',\n",
        "    'DewPoint': 'TD_AVG',\n",
        "    'Pressure': 'PA_AVG',\n",
        "    'CloudAmount': 'CA_TOT',\n",
        "    'Sunshine': 'SS_DUR'\n",
        "}\n",
        "actual_weather_columns = list(weather_columns.values())\n",
        "\n",
        "# === 4. 누락된 컬럼 확인 ===\n",
        "missing = [col for col in actual_weather_columns if col not in df.columns]\n",
        "if missing:\n",
        "    raise KeyError(f\"\\u274c 누락된 컬럼: {missing}\")\n",
        "\n",
        "# === 5. 이상치 및 결측치 처리 ===\n",
        "df[actual_weather_columns] = df[actual_weather_columns].replace(-9.0, 0)\n",
        "df[actual_weather_columns] = df[actual_weather_columns].fillna(0)\n",
        "\n",
        "# === 6. 검색량 변환 ===\n",
        "pt = PowerTransformer(method='yeo-johnson')\n",
        "df['Search_Count'] = pt.fit_transform(df[['Search_Count']])\n",
        "\n",
        "# === 7. 범주형 인코딩 ===\n",
        "label_cols = ['GroupName', 'Gender', 'Age_Group']\n",
        "label_encoders = {}\n",
        "for col in label_cols:\n",
        "    le = LabelEncoder()\n",
        "    df[col] = le.fit_transform(df[col])\n",
        "    label_encoders[col] = le\n",
        "\n",
        "df['GroupName_Label'] = label_encoders['GroupName'].inverse_transform(df['GroupName'])\n",
        "\n",
        "# === 8. 날씨 클러스터링 ===\n",
        "scaler = StandardScaler()\n",
        "weather_scaled = scaler.fit_transform(df[actual_weather_columns])\n",
        "kmeans = KMeans(n_clusters=5, random_state=42)\n",
        "df['Weather_Cluster'] = kmeans.fit_predict(weather_scaled)\n",
        "\n",
        "weather_labels = {\n",
        "    0: '맑음/보통', 1: '고기압/건조', 2: '흐림/습함', 3: '추움/강풍', 4: '더움/일조많음'\n",
        "}\n",
        "df['Weather_Cluster_Label'] = df['Weather_Cluster'].map(weather_labels)\n",
        "df['Weather_Cluster'] = LabelEncoder().fit_transform(df['Weather_Cluster_Label'])\n",
        "\n",
        "# === 9. 모델 피처 구성 ===\n",
        "features = ['Search_Count', 'STN', 'Month', 'Gender', 'Age_Group', 'Weather_Cluster']\n",
        "X = df[features]\n",
        "y = df['GroupName']\n",
        "\n",
        "X_train, X_test, y_train, y_test = train_test_split(\n",
        "    X, y, test_size=0.2, random_state=42, stratify=y\n",
        ")\n",
        "\n",
        "# === 10. XGBoost 모델 학습 ===\n",
        "xgb_model = xgb.XGBClassifier(\n",
        "    random_state=42, tree_method='hist', use_label_encoder=False, eval_metric='mlogloss'\n",
        ")\n",
        "\n",
        "param_dist = {\n",
        "    'n_estimators': [100],\n",
        "    'max_depth': [10, 20],\n",
        "    'learning_rate': [0.05, 0.1],\n",
        "    'subsample': [0.8, 1.0]\n",
        "}\n",
        "\n",
        "random_search = RandomizedSearchCV(\n",
        "    estimator=xgb_model,\n",
        "    param_distributions=param_dist,\n",
        "    n_iter=4,\n",
        "    scoring='f1_weighted',\n",
        "    cv=2,\n",
        "    verbose=1,\n",
        "    random_state=42,\n",
        "    n_jobs=-1\n",
        ")\n",
        "\n",
        "random_search.fit(X_train, y_train)\n",
        "best_model = random_search.best_estimator_\n",
        "\n",
        "# === 11. 정확도 평가 ===\n",
        "y_pred = best_model.predict(X_test)\n",
        "print(\"\\nBest Parameters:\", random_search.best_params_)\n",
        "print(\"\\nClassification Report:\\n\")\n",
        "print(classification_report(y_test, y_pred, target_names=label_encoders['GroupName'].classes_))\n",
        "\n"
      ],
      "metadata": {
        "colab": {
          "base_uri": "https://localhost:8080/"
        },
        "id": "J2j0tOW0bTKf",
        "outputId": "9b2cfbf4-f8c9-4782-f9e7-e5a54ccb6270"
      },
      "execution_count": null,
      "outputs": [
        {
          "output_type": "stream",
          "name": "stdout",
          "text": [
            "Fitting 2 folds for each of 4 candidates, totalling 8 fits\n"
          ]
        },
        {
          "output_type": "stream",
          "name": "stderr",
          "text": [
            "ERROR:asyncio:Exception in callback BaseAsyncIOLoop._handle_events(29, 1)\n",
            "handle: <Handle BaseAsyncIOLoop._handle_events(29, 1)>\n",
            "Traceback (most recent call last):\n",
            "  File \"/usr/lib/python3.11/asyncio/events.py\", line 84, in _run\n",
            "    self._context.run(self._callback, *self._args)\n",
            "  File \"/usr/local/lib/python3.11/dist-packages/tornado/platform/asyncio.py\", line 202, in _handle_events\n",
            "    handler_func(fileobj, events)\n",
            "  File \"/usr/local/lib/python3.11/dist-packages/zmq/eventloop/zmqstream.py\", line 578, in _handle_events\n",
            "    self._handle_recv()\n",
            "  File \"/usr/local/lib/python3.11/dist-packages/zmq/eventloop/zmqstream.py\", line 607, in _handle_recv\n",
            "    self._run_callback(callback, msg)\n",
            "  File \"/usr/local/lib/python3.11/dist-packages/zmq/eventloop/zmqstream.py\", line 557, in _run_callback\n",
            "    callback(*args, **kwargs)\n",
            "  File \"/usr/local/lib/python3.11/dist-packages/ipykernel/iostream.py\", line 120, in _handle_event\n",
            "    event_f()\n",
            "  File \"/usr/local/lib/python3.11/dist-packages/ipykernel/iostream.py\", line 518, in _flush\n",
            "    self.session.send(\n",
            "  File \"/usr/local/lib/python3.11/dist-packages/jupyter_client/session.py\", line 742, in send\n",
            "    to_send = self.serialize(msg, ident)\n",
            "              ^^^^^^^^^^^^^^^^^^^^^^^^^^\n",
            "  File \"/usr/local/lib/python3.11/dist-packages/jupyter_client/session.py\", line 630, in serialize\n",
            "    content = self.pack(content)\n",
            "              ^^^^^^^^^^^^^^^^^^\n",
            "  File \"/usr/local/lib/python3.11/dist-packages/jupyter_client/session.py\", line 82, in <lambda>\n",
            "    json_packer = lambda obj: jsonapi.dumps(obj, default=date_default,\n",
            "                              ^^^^^^^^^^^^^^^^^^^^^^^^^^^^^^^^^^^^^^^^\n",
            "  File \"/usr/local/lib/python3.11/dist-packages/zmq/utils/jsonapi.py\", line 24, in dumps\n",
            "    return json.dumps(o, **kwargs).encode(\"utf8\")\n",
            "           ^^^^^^^^^^^^^^^^^^^^^^^^^^^^^^^^^^^^^^\n",
            "UnicodeEncodeError: 'utf-8' codec can't encode characters in position 131-132: surrogates not allowed\n"
          ]
        }
      ]
    },
    {
      "cell_type": "code",
      "source": [
        "# === 11. 정확도 평가 ===\n",
        "y_pred = best_model.predict(X_test)\n",
        "print(\"\\nBest Parameters:\", random_search.best_params_)\n",
        "print(\"\\nClassification Report:\\n\")\n",
        "print(classification_report(y_test, y_pred, target_names=label_encoders['GroupName'].classes_))"
      ],
      "metadata": {
        "colab": {
          "base_uri": "https://localhost:8080/"
        },
        "id": "fY-JNANzeajS",
        "outputId": "72aaa417-e01a-406c-f48e-bbe840cd38ad"
      },
      "execution_count": null,
      "outputs": [
        {
          "output_type": "stream",
          "name": "stdout",
          "text": [
            "\n",
            "Best Parameters: {'subsample': 1.0, 'n_estimators': 100, 'max_depth': 10, 'learning_rate': 0.1}\n",
            "\n",
            "Classification Report:\n",
            "\n",
            "              precision    recall  f1-score   support\n",
            "\n",
            "         면요리       0.59      0.56      0.58     15778\n",
            "      밥/죽/덮밥       0.48      0.43      0.46     15779\n",
            "       볶음/구이       0.48      0.57      0.52     15779\n",
            "     브런치/샐러드       0.52      0.49      0.51     15779\n",
            "      안주/보양식       0.93      0.92      0.92     15779\n",
            "      찌개/국/탕       0.81      0.86      0.84     15779\n",
            "\n",
            "    accuracy                           0.64     94673\n",
            "   macro avg       0.64      0.64      0.64     94673\n",
            "weighted avg       0.64      0.64      0.64     94673\n",
            "\n"
          ]
        }
      ]
    },
    {
      "cell_type": "markdown",
      "source": [
        "# 관계없음 기상청 api"
      ],
      "metadata": {
        "id": "NH3D1E0gUR-K"
      }
    },
    {
      "cell_type": "code",
      "source": [
        "import requests\n",
        "from datetime import datetime, timedelta\n",
        "\n",
        "def get_kma_weather(service_key, nx=60, ny=127):\n",
        "    \"\"\"\n",
        "    기상청 초단기실황 API 호출 함수\n",
        "    :param service_key: 인증키 (URL 인코딩된 상태여야 함)\n",
        "    :param nx: 격자 X 좌표 (예: 서울 60)\n",
        "    :param ny: 격자 Y 좌표 (예: 서울 127)\n",
        "    :return: dict 형태의 날씨 실황 정보\n",
        "    \"\"\"\n",
        "    # 기준 날짜/시간 계산 (현재 시각에서 40분 전 기준)\n",
        "    now = datetime.now()\n",
        "    base_time = (now - timedelta(minutes=40)).strftime('%H00')\n",
        "    base_date = now.strftime('%Y%m%d')\n",
        "\n",
        "    url = 'http://apis.data.go.kr/1360000/VilageFcstInfoService_2.0/getUltraSrtNcst'\n",
        "    params = {\n",
        "        'serviceKey': service_key,\n",
        "        'pageNo': '1',\n",
        "        'numOfRows': '1000',\n",
        "        'dataType': 'JSON',          # ✅ JSON 형식으로 받기\n",
        "        'base_date': base_date,\n",
        "        'base_time': base_time,\n",
        "        'nx': nx,\n",
        "        'ny': ny\n",
        "    }\n",
        "\n",
        "    response = requests.get(url, params=params)\n",
        "    if response.status_code == 200:\n",
        "        try:\n",
        "            items = response.json()['response']['body']['items']['item']\n",
        "            # 필요한 항목 추출\n",
        "            weather = {item['category']: item['obsrValue'] for item in items}\n",
        "            return weather\n",
        "        except Exception as e:\n",
        "            print(\"❌ 데이터 파싱 오류:\", e)\n",
        "            return None\n",
        "    else:\n",
        "        print(f\"❌ 요청 실패: {response.status_code}\")\n",
        "        return None\n",
        "\n",
        "# 예시 사용\n",
        "service_key = '9/J+JAxSAQW37NA9zqY7YcAMkvZuUyZpDaGEfASZzlJFQQndFFdbWDaCZ4aiMWBp4NwNZOI2bMPk5H3NU0aq/g=='  # URL 인코딩된 키\n",
        "weather = get_kma_weather(service_key)\n",
        "\n",
        "if weather:\n",
        "    print(\"✅ 현재 실황 정보:\")\n",
        "    for key, value in weather.items():\n",
        "        print(f\"{key}: {value}\")\n"
      ],
      "metadata": {
        "colab": {
          "base_uri": "https://localhost:8080/"
        },
        "id": "Vt--Rg3zROp6",
        "outputId": "4f1a9b4b-5ff3-49ea-cf70-f33be3f0a460"
      },
      "execution_count": null,
      "outputs": [
        {
          "output_type": "stream",
          "name": "stdout",
          "text": [
            "✅ 현재 실황 정보:\n",
            "PTY: 0\n",
            "REH: 69\n",
            "RN1: 0\n",
            "T1H: 3.1\n",
            "UUU: -1.3\n",
            "VEC: 47\n",
            "VVV: -1.2\n",
            "WSD: 1.9\n"
          ]
        }
      ]
    }
  ]
}